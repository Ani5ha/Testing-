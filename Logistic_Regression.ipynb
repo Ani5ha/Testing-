{
  "nbformat": 4,
  "nbformat_minor": 0,
  "metadata": {
    "_change_revision": 0,
    "_is_fork": false,
    "kernelspec": {
      "display_name": "Python 3",
      "language": "python",
      "name": "python3"
    },
    "language_info": {
      "codemirror_mode": {
        "name": "ipython",
        "version": 3
      },
      "file_extension": ".py",
      "mimetype": "text/x-python",
      "name": "python",
      "nbconvert_exporter": "python",
      "pygments_lexer": "ipython3",
      "version": "3.6.5"
    },
    "colab": {
      "name": "Logistic_Regression.ipynb",
      "provenance": [],
      "include_colab_link": true
    }
  },
  "cells": [
    {
      "cell_type": "markdown",
      "metadata": {
        "id": "view-in-github",
        "colab_type": "text"
      },
      "source": [
        "<a href=\"https://colab.research.google.com/github/Ani5ha/Testing-/blob/master/Logistic_Regression.ipynb\" target=\"_parent\"><img src=\"https://colab.research.google.com/assets/colab-badge.svg\" alt=\"Open In Colab\"/></a>"
      ]
    },
    {
      "cell_type": "markdown",
      "metadata": {
        "id": "JYSjrm_pwgiz"
      },
      "source": [
        "![image.png](attachment:image.png)"
      ]
    },
    {
      "cell_type": "markdown",
      "metadata": {
        "_cell_guid": "f7eaa7d1-9025-8cde-7b6a-459b46eb6594",
        "_uuid": "0ea601441cb720c7de061291a97e64506088ec3c",
        "id": "FPHXr8PwwgjC"
      },
      "source": [
        "# Designing a Machine Learning Model"
      ]
    },
    {
      "cell_type": "markdown",
      "metadata": {
        "id": "mCgUqdb2wgjE"
      },
      "source": [
        "# Introduction\n",
        "\n",
        "In this guide, we are going to implement a ***Logistic regression model*** from scratch and compare the accuracy with its sci-kit learn library, describe and visualize the dataset. In Machine Learning (ML) and data mining algorithms, logistic regression is the part of the Classification technique. A lot many problems in Data Science are to be solved by applying Classification techniques. \n",
        "\n",
        "Logistic Regression is one of the most simple and commonly used models to implement a baseline for any **binary classification** problem. It can predict weather the mail is a spam or not and predict Diabetes in an individual, but probably it's not a good idea to predict someone's house price using. Another category is **multinomial classification**, where multiple classes are present in the target variable.\n",
        "\n",
        "We will explore a  known multi-class problem - ***\"Iris Dataset from UCI Machine Learning Repository\"***.It is used to predicts the species of the flower based on their given dimensions.\n",
        "\n",
        "You can download the dataset from [here](https://www.kaggle.com/uciml/iris). Please note that you will need to have a [Kaggel account](https://www.kaggle.com/account/login?phase=startRegisterTab&returnUrl=%2F) to download the dataset.\n"
      ]
    },
    {
      "cell_type": "markdown",
      "metadata": {
        "id": "_1Gx8z_8wgjG"
      },
      "source": [
        "## Pre-requisites \n",
        "\n",
        "- You are expected to have **Python 3.6** and above versions installed in your system. [Click here](https://www.python.org/downloads/) to install it.\n",
        "\n",
        "- Also, make sure you have installed **Anaconda3**, Python 3, 64 bits. [Click here](https://www.anaconda.com/distribution/) to install it.\n",
        "\n",
        "- It is adviceable to run your code on **[Juputer Notebook](https://jupyter-notebook-beginner-guide.readthedocs.io/en/latest/what_is_jupyter.html)** it is an excellent tool for learning, experimenting and documenting. One can also save work in the form of .iPynb,.py,.md, etc\n",
        "\n",
        "- Juputer Notebook can be launched by clicking Jupyter notebook icon installed by Anaconda or by writing `jupyter notebook` in command prompt (*cmd for windows*). \n",
        "\n",
        "If stuck while installation of Jupter Notebook refer to [this guide](https://jupyter-notebook-beginner-guide.readthedocs.io/en/latest/install.html)"
      ]
    },
    {
      "cell_type": "markdown",
      "metadata": {
        "id": "kr_yWOqbwgjI"
      },
      "source": [
        "## By the end of this guide...\n",
        "\n",
        "1. You will get a clearer picture of the volume and variety of the dataset by visualizing it. Visualization is like telling the story out of text data and making analysis more efficient.\n",
        "\n",
        "2. By building an ML algorithm from the scratch, you will be able to convert the mathematical steps into running code. And secondly, you will build an understanding of the mechanics behind the algorithm. These will level-up your skills and force you to think out-of-the-box.\n",
        "\n",
        "3. You will successfully unlock the level of designing your Logistic Regression machine learning model which you can showcase on different data science platforms.\n",
        "\n",
        "**So let us begin our journey!**"
      ]
    },
    {
      "cell_type": "markdown",
      "metadata": {
        "id": "GIs8gdVMwgjJ"
      },
      "source": [
        "# Introduction to dataset \n",
        "\n",
        "![image.png](attachment:image.png)\n",
        "\n",
        "- There are three Iris species: Iris setosa, Iris versicolor, Iris virginica\n",
        "- There are 50 observations of each species \n",
        "- There are 150 observations with 4 features each (sepal length, sepal width, petal length, petal width).\n",
        "- There are no null values, so we don't have to worry about that.\n",
        "\n",
        "Based on the combination of the mentioned four features, Fisher developed a linear discriminant model to distinguish the species from each other.\n",
        "\n",
        "Want to know more about the data? [click here](https://en.wikipedia.org/wiki/Iris_flower_data_set)\n",
        "\n",
        "**Before we start, we need to clear some ML notations.**\n",
        "\n",
        "**Attributes**- Also known as Features. An attribute is the specification of an instance that may be used to determine its classification. In the following dataset, the attributes are the petal and sepal length and width.\n",
        "\n",
        "**Target variable** - In the context of ML, it is the variable that is or should be the output. Here the target variables are the 3 flower species."
      ]
    },
    {
      "cell_type": "markdown",
      "metadata": {
        "id": "0wKyxirNwgjK"
      },
      "source": [
        "# Importing the required packages \n",
        "\n",
        "All the packaging tools are designed to be installed using the command prompt. Open Python scripts directory in command prompt to install the packages. The following command is used to install the latest version of the required package and dependencies. `python -m pip install Packagename`. Replace `Packagename` with the desired package.\n",
        "\n",
        "Packages to install for this guide are - \n",
        "- [Numpy](https://numpy.org/)\n",
        "- [matplotlib](https://matplotlib.org/users/index.html)\n",
        "- [Seabon](https://seaborn.pydata.org/introduction.html)\n",
        "- [Scipy](https://www.scipy.org/getting-started.html)\n",
        "- [pandas](https://pandas.pydata.org/pandas-docs/stable/getting_started/index.html)\n",
        "- [Scikit-Learn](https://scikit-learn.org/stable/user_guide.html)\n"
      ]
    },
    {
      "cell_type": "markdown",
      "metadata": {
        "id": "Q025XtA9wgjL"
      },
      "source": [
        "![image.png](attachment:image.png)"
      ]
    },
    {
      "cell_type": "code",
      "metadata": {
        "_cell_guid": "b2e0476a-bcdd-7409-1233-3671c9bd4037",
        "_execution_state": "idle",
        "_uuid": "4f27758a84e3a864d2a8c533428375bdac2ebd9e",
        "id": "TzUqHQTMwgjM"
      },
      "source": [
        "# import libraries\n",
        "from subprocess import check_output\n",
        "import numpy as np # linear algebra\n",
        "import pandas as pd # data processing\n",
        "import warnings \n",
        "warnings.filterwarnings('ignore') #ignore warnings\n",
        "from math import ceil \n",
        "\n",
        "#Visualization\n",
        "import matplotlib.pyplot as plt\n",
        "import seaborn as sb\n",
        "from sklearn.metrics import confusion_matrix #Confusion matrix\n",
        "from sklearn.metrics import accuracy_score # Accuracy score\n",
        "\n",
        "# Spliting training and testing\n",
        "from sklearn.model_selection import train_test_split\n",
        "\n",
        "#Advanced optimization\n",
        "from scipy import optimize as op\n",
        "\n"
      ],
      "execution_count": null,
      "outputs": []
    },
    {
      "cell_type": "markdown",
      "metadata": {
        "id": "e3sGvjgSwgjO"
      },
      "source": [
        "# Loading and Previewing the Data\n"
      ]
    },
    {
      "cell_type": "code",
      "metadata": {
        "id": "QTeEGiV5wgjO"
      },
      "source": [
        "#Laoding the data\n",
        "data_iris = pd.read_csv('Iris.csv') # If your input csv file is placed with working directory\n",
        "# data_iris=pd.read_csv('../input/Iris.csv') # Enter the path of the directory where input csv is stored"
      ],
      "execution_count": null,
      "outputs": []
    },
    {
      "cell_type": "code",
      "metadata": {
        "id": "iXtP-0KcwgjP",
        "outputId": "aa0ce841-a1cb-40fe-eb47-2969689b55bb"
      },
      "source": [
        "data_iris.head()# first 5 entries of dataset"
      ],
      "execution_count": null,
      "outputs": [
        {
          "output_type": "execute_result",
          "data": {
            "text/html": [
              "<div>\n",
              "<style scoped>\n",
              "    .dataframe tbody tr th:only-of-type {\n",
              "        vertical-align: middle;\n",
              "    }\n",
              "\n",
              "    .dataframe tbody tr th {\n",
              "        vertical-align: top;\n",
              "    }\n",
              "\n",
              "    .dataframe thead th {\n",
              "        text-align: right;\n",
              "    }\n",
              "</style>\n",
              "<table border=\"1\" class=\"dataframe\">\n",
              "  <thead>\n",
              "    <tr style=\"text-align: right;\">\n",
              "      <th></th>\n",
              "      <th>Id</th>\n",
              "      <th>SepalLengthCm</th>\n",
              "      <th>SepalWidthCm</th>\n",
              "      <th>PetalLengthCm</th>\n",
              "      <th>PetalWidthCm</th>\n",
              "      <th>Species</th>\n",
              "    </tr>\n",
              "  </thead>\n",
              "  <tbody>\n",
              "    <tr>\n",
              "      <th>0</th>\n",
              "      <td>1</td>\n",
              "      <td>5.1</td>\n",
              "      <td>3.5</td>\n",
              "      <td>1.4</td>\n",
              "      <td>0.2</td>\n",
              "      <td>Iris-setosa</td>\n",
              "    </tr>\n",
              "    <tr>\n",
              "      <th>1</th>\n",
              "      <td>2</td>\n",
              "      <td>4.9</td>\n",
              "      <td>3.0</td>\n",
              "      <td>1.4</td>\n",
              "      <td>0.2</td>\n",
              "      <td>Iris-setosa</td>\n",
              "    </tr>\n",
              "    <tr>\n",
              "      <th>2</th>\n",
              "      <td>3</td>\n",
              "      <td>4.7</td>\n",
              "      <td>3.2</td>\n",
              "      <td>1.3</td>\n",
              "      <td>0.2</td>\n",
              "      <td>Iris-setosa</td>\n",
              "    </tr>\n",
              "    <tr>\n",
              "      <th>3</th>\n",
              "      <td>4</td>\n",
              "      <td>4.6</td>\n",
              "      <td>3.1</td>\n",
              "      <td>1.5</td>\n",
              "      <td>0.2</td>\n",
              "      <td>Iris-setosa</td>\n",
              "    </tr>\n",
              "    <tr>\n",
              "      <th>4</th>\n",
              "      <td>5</td>\n",
              "      <td>5.0</td>\n",
              "      <td>3.6</td>\n",
              "      <td>1.4</td>\n",
              "      <td>0.2</td>\n",
              "      <td>Iris-setosa</td>\n",
              "    </tr>\n",
              "  </tbody>\n",
              "</table>\n",
              "</div>"
            ],
            "text/plain": [
              "   Id  SepalLengthCm  SepalWidthCm  PetalLengthCm  PetalWidthCm      Species\n",
              "0   1            5.1           3.5            1.4           0.2  Iris-setosa\n",
              "1   2            4.9           3.0            1.4           0.2  Iris-setosa\n",
              "2   3            4.7           3.2            1.3           0.2  Iris-setosa\n",
              "3   4            4.6           3.1            1.5           0.2  Iris-setosa\n",
              "4   5            5.0           3.6            1.4           0.2  Iris-setosa"
            ]
          },
          "metadata": {
            "tags": []
          },
          "execution_count": 3
        }
      ]
    },
    {
      "cell_type": "code",
      "metadata": {
        "id": "nzUacjkKwgjR",
        "outputId": "2c40cf59-fcc1-41f5-fdd2-9a70ba2a7e1b"
      },
      "source": [
        "data_iris.tail()# last 5 entries of dataset"
      ],
      "execution_count": null,
      "outputs": [
        {
          "output_type": "execute_result",
          "data": {
            "text/html": [
              "<div>\n",
              "<style scoped>\n",
              "    .dataframe tbody tr th:only-of-type {\n",
              "        vertical-align: middle;\n",
              "    }\n",
              "\n",
              "    .dataframe tbody tr th {\n",
              "        vertical-align: top;\n",
              "    }\n",
              "\n",
              "    .dataframe thead th {\n",
              "        text-align: right;\n",
              "    }\n",
              "</style>\n",
              "<table border=\"1\" class=\"dataframe\">\n",
              "  <thead>\n",
              "    <tr style=\"text-align: right;\">\n",
              "      <th></th>\n",
              "      <th>Id</th>\n",
              "      <th>SepalLengthCm</th>\n",
              "      <th>SepalWidthCm</th>\n",
              "      <th>PetalLengthCm</th>\n",
              "      <th>PetalWidthCm</th>\n",
              "      <th>Species</th>\n",
              "    </tr>\n",
              "  </thead>\n",
              "  <tbody>\n",
              "    <tr>\n",
              "      <th>145</th>\n",
              "      <td>146</td>\n",
              "      <td>6.7</td>\n",
              "      <td>3.0</td>\n",
              "      <td>5.2</td>\n",
              "      <td>2.3</td>\n",
              "      <td>Iris-virginica</td>\n",
              "    </tr>\n",
              "    <tr>\n",
              "      <th>146</th>\n",
              "      <td>147</td>\n",
              "      <td>6.3</td>\n",
              "      <td>2.5</td>\n",
              "      <td>5.0</td>\n",
              "      <td>1.9</td>\n",
              "      <td>Iris-virginica</td>\n",
              "    </tr>\n",
              "    <tr>\n",
              "      <th>147</th>\n",
              "      <td>148</td>\n",
              "      <td>6.5</td>\n",
              "      <td>3.0</td>\n",
              "      <td>5.2</td>\n",
              "      <td>2.0</td>\n",
              "      <td>Iris-virginica</td>\n",
              "    </tr>\n",
              "    <tr>\n",
              "      <th>148</th>\n",
              "      <td>149</td>\n",
              "      <td>6.2</td>\n",
              "      <td>3.4</td>\n",
              "      <td>5.4</td>\n",
              "      <td>2.3</td>\n",
              "      <td>Iris-virginica</td>\n",
              "    </tr>\n",
              "    <tr>\n",
              "      <th>149</th>\n",
              "      <td>150</td>\n",
              "      <td>5.9</td>\n",
              "      <td>3.0</td>\n",
              "      <td>5.1</td>\n",
              "      <td>1.8</td>\n",
              "      <td>Iris-virginica</td>\n",
              "    </tr>\n",
              "  </tbody>\n",
              "</table>\n",
              "</div>"
            ],
            "text/plain": [
              "      Id  SepalLengthCm  SepalWidthCm  PetalLengthCm  PetalWidthCm  \\\n",
              "145  146            6.7           3.0            5.2           2.3   \n",
              "146  147            6.3           2.5            5.0           1.9   \n",
              "147  148            6.5           3.0            5.2           2.0   \n",
              "148  149            6.2           3.4            5.4           2.3   \n",
              "149  150            5.9           3.0            5.1           1.8   \n",
              "\n",
              "            Species  \n",
              "145  Iris-virginica  \n",
              "146  Iris-virginica  \n",
              "147  Iris-virginica  \n",
              "148  Iris-virginica  \n",
              "149  Iris-virginica  "
            ]
          },
          "metadata": {
            "tags": []
          },
          "execution_count": 4
        }
      ]
    },
    {
      "cell_type": "code",
      "metadata": {
        "id": "EQ00KJk0wgjR",
        "outputId": "bb3b0f4f-efda-4316-dde4-385500ffce57"
      },
      "source": [
        "data_iris.info()"
      ],
      "execution_count": null,
      "outputs": [
        {
          "output_type": "stream",
          "text": [
            "<class 'pandas.core.frame.DataFrame'>\n",
            "RangeIndex: 150 entries, 0 to 149\n",
            "Data columns (total 6 columns):\n",
            "Id               150 non-null int64\n",
            "SepalLengthCm    150 non-null float64\n",
            "SepalWidthCm     150 non-null float64\n",
            "PetalLengthCm    150 non-null float64\n",
            "PetalWidthCm     150 non-null float64\n",
            "Species          150 non-null object\n",
            "dtypes: float64(4), int64(1), object(1)\n",
            "memory usage: 7.1+ KB\n"
          ],
          "name": "stdout"
        }
      ]
    },
    {
      "cell_type": "markdown",
      "metadata": {
        "id": "XPrDV0ymwgjS"
      },
      "source": [
        "A Statistical details (percentile, mean standard diviation)of whole dataset - 150 observation \n",
        "\n"
      ]
    },
    {
      "cell_type": "code",
      "metadata": {
        "id": "E3tYEyXuwgjT",
        "outputId": "b52c93dd-9d8c-4d4e-9940-5a51efdda5c0"
      },
      "source": [
        "data_iris.describe()"
      ],
      "execution_count": null,
      "outputs": [
        {
          "output_type": "execute_result",
          "data": {
            "text/html": [
              "<div>\n",
              "<style scoped>\n",
              "    .dataframe tbody tr th:only-of-type {\n",
              "        vertical-align: middle;\n",
              "    }\n",
              "\n",
              "    .dataframe tbody tr th {\n",
              "        vertical-align: top;\n",
              "    }\n",
              "\n",
              "    .dataframe thead th {\n",
              "        text-align: right;\n",
              "    }\n",
              "</style>\n",
              "<table border=\"1\" class=\"dataframe\">\n",
              "  <thead>\n",
              "    <tr style=\"text-align: right;\">\n",
              "      <th></th>\n",
              "      <th>Id</th>\n",
              "      <th>SepalLengthCm</th>\n",
              "      <th>SepalWidthCm</th>\n",
              "      <th>PetalLengthCm</th>\n",
              "      <th>PetalWidthCm</th>\n",
              "    </tr>\n",
              "  </thead>\n",
              "  <tbody>\n",
              "    <tr>\n",
              "      <th>count</th>\n",
              "      <td>150.000000</td>\n",
              "      <td>150.000000</td>\n",
              "      <td>150.000000</td>\n",
              "      <td>150.000000</td>\n",
              "      <td>150.000000</td>\n",
              "    </tr>\n",
              "    <tr>\n",
              "      <th>mean</th>\n",
              "      <td>75.500000</td>\n",
              "      <td>5.843333</td>\n",
              "      <td>3.054000</td>\n",
              "      <td>3.758667</td>\n",
              "      <td>1.198667</td>\n",
              "    </tr>\n",
              "    <tr>\n",
              "      <th>std</th>\n",
              "      <td>43.445368</td>\n",
              "      <td>0.828066</td>\n",
              "      <td>0.433594</td>\n",
              "      <td>1.764420</td>\n",
              "      <td>0.763161</td>\n",
              "    </tr>\n",
              "    <tr>\n",
              "      <th>min</th>\n",
              "      <td>1.000000</td>\n",
              "      <td>4.300000</td>\n",
              "      <td>2.000000</td>\n",
              "      <td>1.000000</td>\n",
              "      <td>0.100000</td>\n",
              "    </tr>\n",
              "    <tr>\n",
              "      <th>25%</th>\n",
              "      <td>38.250000</td>\n",
              "      <td>5.100000</td>\n",
              "      <td>2.800000</td>\n",
              "      <td>1.600000</td>\n",
              "      <td>0.300000</td>\n",
              "    </tr>\n",
              "    <tr>\n",
              "      <th>50%</th>\n",
              "      <td>75.500000</td>\n",
              "      <td>5.800000</td>\n",
              "      <td>3.000000</td>\n",
              "      <td>4.350000</td>\n",
              "      <td>1.300000</td>\n",
              "    </tr>\n",
              "    <tr>\n",
              "      <th>75%</th>\n",
              "      <td>112.750000</td>\n",
              "      <td>6.400000</td>\n",
              "      <td>3.300000</td>\n",
              "      <td>5.100000</td>\n",
              "      <td>1.800000</td>\n",
              "    </tr>\n",
              "    <tr>\n",
              "      <th>max</th>\n",
              "      <td>150.000000</td>\n",
              "      <td>7.900000</td>\n",
              "      <td>4.400000</td>\n",
              "      <td>6.900000</td>\n",
              "      <td>2.500000</td>\n",
              "    </tr>\n",
              "  </tbody>\n",
              "</table>\n",
              "</div>"
            ],
            "text/plain": [
              "               Id  SepalLengthCm  SepalWidthCm  PetalLengthCm  PetalWidthCm\n",
              "count  150.000000     150.000000    150.000000     150.000000    150.000000\n",
              "mean    75.500000       5.843333      3.054000       3.758667      1.198667\n",
              "std     43.445368       0.828066      0.433594       1.764420      0.763161\n",
              "min      1.000000       4.300000      2.000000       1.000000      0.100000\n",
              "25%     38.250000       5.100000      2.800000       1.600000      0.300000\n",
              "50%     75.500000       5.800000      3.000000       4.350000      1.300000\n",
              "75%    112.750000       6.400000      3.300000       5.100000      1.800000\n",
              "max    150.000000       7.900000      4.400000       6.900000      2.500000"
            ]
          },
          "metadata": {
            "tags": []
          },
          "execution_count": 6
        }
      ]
    },
    {
      "cell_type": "code",
      "metadata": {
        "id": "jAqtZJkBwgjU",
        "outputId": "8e118486-32b3-4cd8-b832-c7f43ae7a9e1"
      },
      "source": [
        "data_iris['Species'].value_counts()"
      ],
      "execution_count": null,
      "outputs": [
        {
          "output_type": "execute_result",
          "data": {
            "text/plain": [
              "Iris-setosa        50\n",
              "Iris-virginica     50\n",
              "Iris-versicolor    50\n",
              "Name: Species, dtype: int64"
            ]
          },
          "metadata": {
            "tags": []
          },
          "execution_count": 7
        }
      ]
    },
    {
      "cell_type": "code",
      "metadata": {
        "id": "VElWaDuvwgjV",
        "outputId": "4c98cf2a-ff79-4f8b-8ea0-711a9cf422c6"
      },
      "source": [
        "data_iris.isnull().values.any()"
      ],
      "execution_count": null,
      "outputs": [
        {
          "output_type": "execute_result",
          "data": {
            "text/plain": [
              "False"
            ]
          },
          "metadata": {
            "tags": []
          },
          "execution_count": 8
        }
      ]
    },
    {
      "cell_type": "markdown",
      "metadata": {
        "id": "MR4eNUbswgjV"
      },
      "source": [
        "Great! there is no missing data and all the 50 observation. Now Repeat describe funtion for the species of ‘Iris-setosa’, ‘Iris-versicolor’ and ‘Iris-versicolor’."
      ]
    },
    {
      "cell_type": "code",
      "metadata": {
        "id": "PaTmSxTgwgjY",
        "outputId": "1757c512-65d4-4f6f-c311-16ce071efa7d"
      },
      "source": [
        "print('Iris-setosa')\n",
        "setosa = data_iris['Species'] == 'Iris-setosa'\n",
        "print(data_iris[setosa].describe())\n",
        "print('\\nIris-versicolor')\n",
        "versicolor = data_iris['Species'] == 'Iris-versicolor'\n",
        "print(data_iris[versicolor].describe())\n",
        "print('\\nIris-virginica')\n",
        "virginica = data_iris['Species'] == 'Iris-virginica'\n",
        "print(data_iris[virginica].describe())"
      ],
      "execution_count": null,
      "outputs": [
        {
          "output_type": "stream",
          "text": [
            "Iris-setosa\n",
            "             Id  SepalLengthCm  SepalWidthCm  PetalLengthCm  PetalWidthCm\n",
            "count  50.00000       50.00000     50.000000      50.000000      50.00000\n",
            "mean   25.50000        5.00600      3.418000       1.464000       0.24400\n",
            "std    14.57738        0.35249      0.381024       0.173511       0.10721\n",
            "min     1.00000        4.30000      2.300000       1.000000       0.10000\n",
            "25%    13.25000        4.80000      3.125000       1.400000       0.20000\n",
            "50%    25.50000        5.00000      3.400000       1.500000       0.20000\n",
            "75%    37.75000        5.20000      3.675000       1.575000       0.30000\n",
            "max    50.00000        5.80000      4.400000       1.900000       0.60000\n",
            "\n",
            "Iris-versicolor\n",
            "              Id  SepalLengthCm  SepalWidthCm  PetalLengthCm  PetalWidthCm\n",
            "count   50.00000      50.000000     50.000000      50.000000     50.000000\n",
            "mean    75.50000       5.936000      2.770000       4.260000      1.326000\n",
            "std     14.57738       0.516171      0.313798       0.469911      0.197753\n",
            "min     51.00000       4.900000      2.000000       3.000000      1.000000\n",
            "25%     63.25000       5.600000      2.525000       4.000000      1.200000\n",
            "50%     75.50000       5.900000      2.800000       4.350000      1.300000\n",
            "75%     87.75000       6.300000      3.000000       4.600000      1.500000\n",
            "max    100.00000       7.000000      3.400000       5.100000      1.800000\n",
            "\n",
            "Iris-virginica\n",
            "              Id  SepalLengthCm  SepalWidthCm  PetalLengthCm  PetalWidthCm\n",
            "count   50.00000       50.00000     50.000000      50.000000      50.00000\n",
            "mean   125.50000        6.58800      2.974000       5.552000       2.02600\n",
            "std     14.57738        0.63588      0.322497       0.551895       0.27465\n",
            "min    101.00000        4.90000      2.200000       4.500000       1.40000\n",
            "25%    113.25000        6.22500      2.800000       5.100000       1.80000\n",
            "50%    125.50000        6.50000      3.000000       5.550000       2.00000\n",
            "75%    137.75000        6.90000      3.175000       5.875000       2.30000\n",
            "max    150.00000        7.90000      3.800000       6.900000       2.50000\n"
          ],
          "name": "stdout"
        }
      ]
    },
    {
      "cell_type": "markdown",
      "metadata": {
        "id": "mJIlWREnwgjZ"
      },
      "source": [
        "# Visualizations\n"
      ]
    },
    {
      "cell_type": "code",
      "metadata": {
        "id": "vLfzzF20wgja",
        "outputId": "2f01969f-04ac-458e-e6d4-080cc3cefe11"
      },
      "source": [
        "#The Histogram representation of the univariate plots for each measurement\n",
        "\n",
        "np = data_iris.drop('Id', axis=1) #dropping the Id \n",
        "np.hist(edgecolor='blue', linewidth=1.2)\n",
        "fig=plt.gcf()\n",
        "fig.set_size_inches(12,6)\n",
        "plt.show()"
      ],
      "execution_count": null,
      "outputs": [
        {
          "output_type": "display_data",
          "data": {
            "image/png": "[encoded data removed]",
            "text/plain": [
              "<Figure size 864x432 with 4 Axes>"
            ]
          },
          "metadata": {
            "tags": []
          }
        }
      ]
    },
    {
      "cell_type": "code",
      "metadata": {
        "_cell_guid": "b42bb2e9-a250-60af-f819-35eda606e500",
        "_execution_state": "idle",
        "_uuid": "83de94f155cbc35db5ce393e1e70272e1441fa51",
        "id": "FM7r2MiWwgja",
        "outputId": "81de296e-88d4-46e4-dc12-dbdb771f737c"
      },
      "source": [
        "#ploting scatter plot with respect to petal length\n",
        "petalPlt = sb.FacetGrid(data_iris, hue=\"Species\", size=6).map(plt.scatter, \"PetalLengthCm\", \"PetalWidthCm\")\n",
        "plt.legend(loc='upper left');\n",
        "plt.title(\"Petal Length VS Width\");"
      ],
      "execution_count": null,
      "outputs": [
        {
          "output_type": "display_data",
          "data": {
            "image/png": "[encoded data removed]",
            "text/plain": [
              "<Figure size 432x432 with 1 Axes>"
            ]
          },
          "metadata": {
            "tags": []
          }
        }
      ]
    },
    {
      "cell_type": "code",
      "metadata": {
        "_cell_guid": "b5633253-bb3f-ca95-4f10-df8b48d010ac",
        "_execution_state": "idle",
        "_uuid": "29d736635ef1e58dc1ec49b8fa89198ce513e9f3",
        "id": "B8WU7EsXwgjb",
        "outputId": "cf11df1f-c98c-4af8-a1fa-9c08868394ba"
      },
      "source": [
        "#Ploting scatter plot with respect to sepal length\n",
        "sepalPlt = sb.FacetGrid(data_iris, hue=\"Species\", size=6).map(plt.scatter, \"SepalLengthCm\", \"SepalWidthCm\")\n",
        "plt.legend(loc='upper right');\n",
        "plt.title(\"Sepal Length VS Width\")"
      ],
      "execution_count": null,
      "outputs": [
        {
          "output_type": "execute_result",
          "data": {
            "text/plain": [
              "Text(0.5,1,'Sepal Length VS Width')"
            ]
          },
          "metadata": {
            "tags": []
          },
          "execution_count": 12
        },
        {
          "output_type": "display_data",
          "data": {
            "image/png": "[encoded data removed]",
            "text/plain": [
              "<Figure size 432x432 with 1 Axes>"
            ]
          },
          "metadata": {
            "tags": []
          }
        }
      ]
    },
    {
      "cell_type": "markdown",
      "metadata": {
        "id": "wvfahYEKwgjb"
      },
      "source": [
        "Here we can see that Patal Features are giving better cluster division. Let us check the bivariate relation between each pair of the feature."
      ]
    },
    {
      "cell_type": "code",
      "metadata": {
        "_cell_guid": "a57cfd7d-e046-103c-7ab7-1cda69d8f844",
        "_execution_state": "idle",
        "_uuid": "8277397ad88ac878ef045583f346632774e4836e",
        "id": "3E3ZKdXbwgjc",
        "outputId": "d8ae5f9b-a2d4-4c29-a8ec-d7a92e32bd8f"
      },
      "source": [
        "# Using seaborn pairplot to see the bivariate relation between each pair of features\n",
        "\n",
        "import seaborn as sns\n",
        "sns.set_palette('husl')\n",
        "\n",
        "nl = data_iris.drop('Id', axis=1) #dropping the Id \n",
        "b = sns.pairplot(nl,hue=\"Species\",diag_kind=\"kde\", markers='+',size =3 );\n",
        "plt.show()"
      ],
      "execution_count": null,
      "outputs": [
        {
          "output_type": "display_data",
          "data": {
            "image/png": "[encoded data removed]",
            "text/plain": [
              "<Figure size 967.5x864 with 20 Axes>"
            ]
          },
          "metadata": {
            "tags": []
          }
        }
      ]
    },
    {
      "cell_type": "markdown",
      "metadata": {
        "id": "dcemiKonwgjc"
      },
      "source": [
        "**Take away points from the above visualization:**\n",
        "\n",
        "- In the above plot, the diagonal grouping of some pairs of attributes. This suggests a high correlation and a predictable relationship\n",
        "- The relationship between pairs of features of an Iris-Setosa (in pink) is distinctly different from those of the other two species.\n",
        "- There is an overlap in the pairwise relationships of the other two species, Iris-Versicolor (brown) and Iris-Virginia (green) "
      ]
    },
    {
      "cell_type": "code",
      "metadata": {
        "_cell_guid": "bb9cc00a-c892-46f3-bdc4-db570b04bf65",
        "_execution_state": "idle",
        "_uuid": "c665e55f6ca36a9b6a988e046d443a87674b16fc",
        "id": "KGB6Z7O7wgjd"
      },
      "source": [
        "#Data setup\n",
        "import numpy as np\n",
        "Species = ['Iris-setosa', 'Iris-versicolor', 'Iris-virginica']\n",
        "#Number of examples\n",
        "m = data_iris.shape[0]\n",
        "#Features\n",
        "n = 4\n",
        "#Number of classes\n",
        "k = 3\n",
        "\n",
        "X = np.ones((m,n + 1))\n",
        "y = np.array((m,1))\n",
        "X[:,1] = data_iris['PetalLengthCm'].values\n",
        "X[:,2] = data_iris['PetalWidthCm'].values\n",
        "X[:,3] = data_iris['SepalLengthCm'].values\n",
        "X[:,4] = data_iris['SepalWidthCm'].values\n",
        "\n",
        "#Labels\n",
        "y = data_iris['Species'].values\n",
        "\n",
        "#Mean normalization\n",
        "for j in range(n):\n",
        "    X[:, j] = (X[:, j] - X[:,j].mean())\n"
      ],
      "execution_count": null,
      "outputs": []
    },
    {
      "cell_type": "code",
      "metadata": {
        "id": "nf9M3_YMwgje",
        "outputId": "1209e2e0-1e07-456a-d816-17237559906d"
      },
      "source": [
        "X_train, X_test, y_train, y_test = train_test_split(X, y, test_size = 0.2, random_state = 11)# it shows 80% of data is split for tran\n",
        "\n",
        "X = data_iris.drop(['Id', 'Species'], axis=1)\n",
        "y = data_iris['Species']\n",
        "# print(X.head())\n",
        "print(X_train.shape)\n",
        "# print(y.head())\n",
        "print(y_test.shape)"
      ],
      "execution_count": null,
      "outputs": [
        {
          "output_type": "stream",
          "text": [
            "(120, 5)\n",
            "(30,)\n"
          ],
          "name": "stdout"
        }
      ]
    },
    {
      "cell_type": "markdown",
      "metadata": {
        "id": "htCS7_pfwgje"
      },
      "source": [
        "# Logistic Regression from Scratch "
      ]
    },
    {
      "cell_type": "markdown",
      "metadata": {
        "id": "CYIDv1Ywwgjf"
      },
      "source": [
        "## Picking up Link Function \n",
        "\n",
        "We can transform a Logistic model to a predictor by using **link function**. We will be using [sigmoid](https://en.wikipedia.org/wiki/Sigmoid_function) function for our model. Below is the image that shows the S-curve and the equation of the sigmoid function. \n",
        "![image.png](attachment:image.png)\n",
        "\n",
        "Let us see how can we put the equation in the form of code."
      ]
    },
    {
      "cell_type": "markdown",
      "metadata": {
        "id": "FjL7DjjWwgjf"
      },
      "source": [
        "#Sigmoid fucntion\n",
        "def sigmoid(z):\n",
        "    return 1.0 / (1 + np.exp(-z))"
      ]
    },
    {
      "cell_type": "markdown",
      "metadata": {
        "id": "22r6I1CWwgjf"
      },
      "source": [
        "Detailed explanation on the sigmoid, cost function and gradient descent is given in [Andrew Ng lectures](coursera.org/lecture/machine-learning/classification-wlPeP) series."
      ]
    },
    {
      "cell_type": "markdown",
      "metadata": {
        "id": "jYyFBEcNwgjg"
      },
      "source": [
        "## Regularization\n",
        "The regularization addresses the occurrence of error while training the model with data, overfitting, and underfitting of the model. Starting with **over-fitting** it is the problem of high-variance and too complicated model with lots of unnecessary curves and angles to the model. Your model is best fitted for the training data but it performs poorly when it comes to testing data. Second is **under-fitting** it is a case of low variance and too simple model. When we apply regularization, all the features are kept and the model adjusts θj. So we will add it at the end of cost function and gradient descent function.\n",
        "\n"
      ]
    },
    {
      "cell_type": "markdown",
      "metadata": {
        "id": "ybqO0qC2wgjg"
      },
      "source": [
        "### Regularized Cost Function\n",
        "![#Regularized Cost](http://i.imgur.com/id7nVp6.png)\n"
      ]
    },
    {
      "cell_type": "markdown",
      "metadata": {
        "id": "274nhkbtwgjh"
      },
      "source": [
        "## Regularized cost function\n",
        "def reglrCostFunction(theta, X, y, _lambda = 0.1):\n",
        "    m = len(y)\n",
        "    h = sigmoid(X.dot(theta))\n",
        "    J = (1 / m) * (-y.T.dot(np.log(h)) - (1 - y).T.dot(np.log(1 - h)))\n",
        "    reg = (_lambda/(2 * m)) * np.sum(theta**2)\n",
        "    J = J + reg\n",
        " \n",
        "    return J"
      ]
    },
    {
      "cell_type": "markdown",
      "metadata": {
        "id": "2BW-N2w2wgjh"
      },
      "source": [
        "### Regularized Gradient\n",
        "![#Regularized Gradient](http://i.imgur.com/7x8omie.png)\n"
      ]
    },
    {
      "cell_type": "markdown",
      "metadata": {
        "id": "E_IUXEaRwgji"
      },
      "source": [
        "#Regularized gradient function\n",
        "def reglrGradient(theta, X, y, _lambda = 0.1):\n",
        "    m, n = X.shape\n",
        "    theta = theta.reshape((n, 1))\n",
        "    y = y.reshape((m, 1))\n",
        "    h = sigmoid(X.dot(theta))\n",
        "    reg = _lambda * theta /m\n",
        "\n",
        "    return ((1 / m) * X.T.dot(h - y)) + reg"
      ]
    },
    {
      "cell_type": "markdown",
      "metadata": {
        "id": "LabiyQAgwgji"
      },
      "source": [
        "There are multiple ways to write equations into code format. Choose the one you are comfortable with easily express the expression in the right way."
      ]
    },
    {
      "cell_type": "markdown",
      "metadata": {
        "id": "U5cGpAj8wgjj"
      },
      "source": [
        "# Putting it all Together "
      ]
    },
    {
      "cell_type": "code",
      "metadata": {
        "_cell_guid": "6d7bb870-5d83-938f-e099-addedc3bc840",
        "_execution_state": "idle",
        "_uuid": "ea7c20ec86ccdc4e604bb27f936a09e6a184de8e",
        "id": "iQzwF2Jpwgjj"
      },
      "source": [
        "#Sigmoid function\n",
        "def sigmoid(z):\n",
        "    return 1.0 / (1 + np.exp(-z))\n",
        "\n",
        "#Regularized cost function\n",
        "def reglrCostFunction(theta, X, y, _lambda = 0.1):\n",
        "    m = len(y)\n",
        "    h = sigmoid(X.dot(theta))\n",
        "    J = (1 / m) * (-y.T.dot(np.log(h)) - (1 - y).T.dot(np.log(1 - h)))\n",
        "    reg = (_lambda/(2 * m)) * np.sum(theta**2)\n",
        "    J = J + reg\n",
        " \n",
        "    return J\n",
        "\n",
        "#Regularized gradient function\n",
        "def reglrGradient(theta, X, y, _lambda = 0.1):\n",
        "    m, n = X.shape\n",
        "    theta = theta.reshape((n, 1))\n",
        "    y = y.reshape((m, 1))\n",
        "    h = sigmoid(X.dot(theta))\n",
        "    reg = _lambda * theta /m\n",
        "    gd = ((1 / m) * X.T.dot(h - y)) \n",
        "    gd = gd + reg\n",
        "\n",
        "    return gd\n",
        "\n",
        "#Optimizing logistic regression (theta)\n",
        "def logisticRegression(X, y, theta):\n",
        "    result = op.minimize(fun = reglrCostFunction, x0 = theta, args = (X, y),\n",
        "                         method = 'TNC', jac = reglrGradient)\n",
        "    \n",
        "    return result.x"
      ],
      "execution_count": null,
      "outputs": []
    },
    {
      "cell_type": "code",
      "metadata": {
        "_cell_guid": "05bece16-e668-7d2c-a931-0db966d28f5e",
        "_execution_state": "idle",
        "_uuid": "7e32b6b7c8f448118e368a7e95125cc7967c0130",
        "id": "xo44M7qnwgjn"
      },
      "source": [
        "#Training\n",
        "\n",
        "all_theta = np.zeros((k, n + 1))\n",
        "\n",
        "#One vs all\n",
        "i = 0\n",
        "for flower in Species:\n",
        "    #set the labels in 0 and 1\n",
        "    tmp_y = np.array(y_train == flower, dtype = int)\n",
        "    optTheta = logisticRegression(X_train, tmp_y, np.zeros((n + 1,1)))\n",
        "    all_theta[i] = optTheta\n",
        "    i += 1\n",
        "    "
      ],
      "execution_count": null,
      "outputs": []
    },
    {
      "cell_type": "code",
      "metadata": {
        "_cell_guid": "68fe4051-0cc8-44c3-a998-7dc8df165506",
        "_execution_state": "idle",
        "_uuid": "236469501520f42a721cf0c0926930e925de31c6",
        "id": "-KeQkOdvwgjn",
        "outputId": "b8b7f305-c26b-44a5-f258-10b4789dbaaf"
      },
      "source": [
        "\n",
        "#Predictions\n",
        "P = sigmoid(X_test.dot(all_theta.T)) #probability for each flower\n",
        "p = [Species[np.argmax(P[i, :])] for i in range(X_test.shape[0])]\n",
        "\n",
        "print(\"Test Accuracy \", accuracy_score(y_test, p) * 100 , '%')"
      ],
      "execution_count": null,
      "outputs": [
        {
          "output_type": "stream",
          "text": [
            "Test Accuracy  96.66666666666667 %\n"
          ],
          "name": "stdout"
        }
      ]
    },
    {
      "cell_type": "markdown",
      "metadata": {
        "id": "o_MuhqQRwgjo"
      },
      "source": [
        "The model is acceptable as the accuracy is nearing 97%. Let us see the heat map find out the correlation between features in the dataset. High positive or negative value shows that the features have a high correlation.\n"
      ]
    },
    {
      "cell_type": "code",
      "metadata": {
        "_cell_guid": "aaed9b53-0935-51dc-4e6f-0cdde02a303f",
        "_execution_state": "idle",
        "_uuid": "94d29f038aafdbd5cd26ef970ef85b2f25ccec06",
        "id": "ypCv-nzBwgjp",
        "outputId": "2bb89668-5440-4a74-f3f1-cc7852a8efbd"
      },
      "source": [
        "#Confusion Matrix\n",
        "cfm = confusion_matrix(y_test, p, labels = Species)\n",
        "\n",
        "sb.heatmap(cfm, annot = True, xticklabels = Species, yticklabels = Species);"
      ],
      "execution_count": null,
      "outputs": [
        {
          "output_type": "display_data",
          "data": {
            "image/png": "[encoded data removed]",
            "text/plain": [
              "<Figure size 432x288 with 2 Axes>"
            ]
          },
          "metadata": {
            "tags": []
          }
        }
      ]
    },
    {
      "cell_type": "markdown",
      "metadata": {
        "id": "8siIp56Vwgjq"
      },
      "source": [
        "# Logistic Regression with Scikit-Learn "
      ]
    },
    {
      "cell_type": "markdown",
      "metadata": {
        "id": "dQIhXLNMwgjr"
      },
      "source": [
        "Our maths looks fine it's pretty clear that our functions work and output is perfect. However, It is nothing wrong to know ground truth.Lets check if we get the same results with Scikit Learn model.\n",
        "\n",
        "Fortunately, I can compare my functions performance with an accuracy of the sk-learn’s logistic regression function, which is known to be a correct implementation. Also, scikit-learns' `LogisticRegression` does regularization automatically.  "
      ]
    },
    {
      "cell_type": "markdown",
      "metadata": {
        "id": "llBT7pd2wgjr"
      },
      "source": [
        "## Steps To Be followed When Applying an Algorithm\n",
        "\n",
        "Mentioned steps are generalized can be used to build any classification or regression model: \n",
        "\n",
        "1. After splitting data into training and testing(done already in our case), select an algorithm based on the problem - We selected Logistic Regression.\n",
        "2. To fit the model we pass the training dataset to the algorithm to train it. We use the **.fit()** method\n",
        "3. To predict the outcome the testing data to the trained algorithm is passed. We use the **.predict()** method.\n",
        "4. We then check the **accuracy** (our evaluation matrix) by passing the predicted outcome and the actual output to the model."
      ]
    },
    {
      "cell_type": "code",
      "metadata": {
        "id": "xaKRKX_Lwgjt",
        "outputId": "17a701cc-2a22-4260-f3ad-c3fce198c28e"
      },
      "source": [
        "from sklearn.linear_model import LogisticRegression\n",
        "from sklearn import metrics\n",
        "logreg = LogisticRegression()\n",
        "logreg.fit(X_train, y_train)\n",
        "y_pred = logreg.predict(X_test)\n",
        "print('Test Accuracy for Scikit-Learn model:', metrics.accuracy_score(y_test, y_pred)* 100,'%')\n"
      ],
      "execution_count": null,
      "outputs": [
        {
          "output_type": "stream",
          "text": [
            "Test Accuracy for Scikit-Learn model: 96.66666666666667 %\n"
          ],
          "name": "stdout"
        }
      ]
    },
    {
      "cell_type": "code",
      "metadata": {
        "id": "5swJfVWIwgjt",
        "outputId": "7fc4a24e-6a2e-404b-8151-07df2f2ffb9e"
      },
      "source": [
        "from sklearn.metrics import classification_report\n",
        "print(classification_report(y_test, y_pred))"
      ],
      "execution_count": null,
      "outputs": [
        {
          "output_type": "stream",
          "text": [
            "                 precision    recall  f1-score   support\n",
            "\n",
            "    Iris-setosa       1.00      1.00      1.00         9\n",
            "Iris-versicolor       0.91      1.00      0.95        10\n",
            " Iris-virginica       1.00      0.91      0.95        11\n",
            "\n",
            "       accuracy                           0.97        30\n",
            "      macro avg       0.97      0.97      0.97        30\n",
            "   weighted avg       0.97      0.97      0.97        30\n",
            "\n"
          ],
          "name": "stdout"
        }
      ]
    },
    {
      "cell_type": "markdown",
      "metadata": {
        "id": "uTiElBCXwgju"
      },
      "source": [
        "The classification report shows that the model gives nearly 97% accuracy on 30 test samples. Our model is pretty well received."
      ]
    },
    {
      "cell_type": "markdown",
      "metadata": {
        "id": "RWYglTD7wgjv"
      },
      "source": [
        "# Conclusion\n",
        "\n",
        "The accuracy of the logistic model using functions and by using scikit-learn is a match! (which makes sense). Although we have an accuracy nearing 97% there is a still room for improvement. It is always preferred to use **sklearn Logistic Regression** model in production.As it will take less processing time (compare lines of code) and package uses a highly optimized solver. So, when will the building algorithms from scratch come handy? Its when you come across a situation where you have to design a model to fit more complex problems or give shape to the model of the new domain.\n",
        "\n",
        "For a start, we have selected a simple dataset with fewer features. Just keep in mind that the performance and selection of the model or a technique totally depend on the volume and variety if the data. Final tip! don't worry if the algorithm is not as optimized and fancy like the exciting packages. Those packages are the result of a strong base and consistency improvement in development."
      ]
    },
    {
      "cell_type": "markdown",
      "metadata": {
        "id": "dHT0k1NUwgjv"
      },
      "source": [
        ""
      ]
    }
  ]
}